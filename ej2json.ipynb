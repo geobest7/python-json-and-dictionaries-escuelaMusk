{
 "cells": [
  {
   "cell_type": "markdown",
   "metadata": {},
   "source": [
    "## Pasar el json a objeto python\n"
   ]
  },
  {
   "cell_type": "code",
   "execution_count": 13,
   "metadata": {},
   "outputs": [
    {
     "name": "stdout",
     "output_type": "stream",
     "text": [
      "[{'$id': '1', 'MCER': None, 'Nivel': 'Prueba de nivel - Para cursos segundo cuatrimestre', 'ID': 'A15050163', 'Titulo': 'Alemán - Prueba de nivel - Para cursos segundo cuatrimestre', 'Horario': None, 'InicioImparticion': '2015-01-09T00:00:00', 'FinImparticion': '2015-02-06T00:00:00', 'Horas': 2, 'URL': 'https://sede.fg.ull.es/es/idioma/detalle/A15050163/aleman-prueba-de-nivel-para-cursos-segundo-cuatrimestre', 'TipoFormacion': 'NoPresencial', 'ECTS': None, 'Categoria': 'Zona Metropolitana', 'Profesorado': [{'$id': '2', 'NombreCompleto': 'Reinhard Dlugay'}]}, {'$id': '3', 'MCER': None, 'Nivel': 'Prueba de nivel - Para cursos segundo cuatrimestre', 'ID': 'A15050167', 'Titulo': 'Español - Prueba de nivel - Para cursos segundo cuatrimestre', 'Horario': None, 'InicioImparticion': '2015-01-09T00:00:00', 'FinImparticion': '2015-02-05T00:00:00', 'Horas': 2, 'URL': 'https://sede.fg.ull.es/es/idioma/detalle/A15050167/espa-ol-prueba-de-nivel-para-cursos-segundo-cuatrimestre', 'TipoFormacion': 'No Presencial', 'ECTS': None, 'Categoria': 'Zona Metropolitana', 'Profesorado': [{'$id': '4', 'NombreCompleto': 'Beatriz Hernández Bravo'}]}, {'$id': '5', 'MCER': None, 'Nivel': 'Prueba de nivel - Para cursos segundo cuatrimestre', 'ID': 'A15050162', 'Titulo': 'Francés - Prueba de nivel - Para cursos segundo cuatrimestre', 'Horario': None, 'InicioImparticion': '2015-01-07T00:00:00', 'FinImparticion': '2015-02-05T00:00:00', 'Horas': 1, 'URL': 'https://sede.fg.ull.es/es/idioma/detalle/A15050162/frances-prueba-de-nivel-para-cursos-segundo-cuatrimestre', 'TipoFormacion': 'Presencial', 'ECTS': None, 'Categoria': 'Zona Metropolitana', 'Profesorado': [{'$id': '6', 'NombreCompleto': 'Marie-Morgane Le Folgoc'}]}, {'$id': '7', 'MCER': None, 'Nivel': 'Prueba de nivel - para cursos de Inglés para la Docencia y preparatorio de GESE Trinity', 'ID': 'A15050182', 'Titulo': 'Inglés - Prueba de nivel - para cursos de Inglés para la Docencia y preparatorio de GESE Trinity', 'Horario': None, 'InicioImparticion': '2015-02-10T00:00:00', 'FinImparticion': '2015-03-03T00:00:00', 'Horas': 4, 'URL': 'https://sede.fg.ull.es/es/idioma/detalle/A15050182/ingles-prueba-de-nivel-para-cursos-de-ingles-para-la-docencia-y-preparatorio-de-gese-trinity', 'TipoFormacion': 'Presencial', 'ECTS': None, 'Categoria': 'Zona Metropolitana', 'Profesorado': [{'$id': '8', 'NombreCompleto': 'María Luisa Capón Mouriz'}]}, {'$id': '9', 'MCER': None, 'Nivel': 'Prueba de nivel - Para cursos segundo cuatrimestre', 'ID': 'A15050007', 'Titulo': 'Inglés - Prueba de nivel - Para cursos segundo cuatrimestre', 'Horario': None, 'InicioImparticion': '2015-01-09T00:00:00', 'FinImparticion': '2015-02-12T00:00:00', 'Horas': 3, 'URL': 'https://sede.fg.ull.es/es/idioma/detalle/A15050007/ingles-prueba-de-nivel-para-cursos-segundo-cuatrimestre', 'TipoFormacion': 'Presencial', 'ECTS': None, 'Categoria': 'Zona Metropolitana', 'Profesorado': [{'$id': '10', 'NombreCompleto': 'María Luisa Capón Mouriz'}, {'$id': '11', 'NombreCompleto': 'Richard James Murison'}, {'$id': '12', 'NombreCompleto': 'María Isabel Rodríguez Rodríguez'}, {'$id': '13', 'NombreCompleto': 'Beatriz Freire Betancor'}, {'$id': '14', 'NombreCompleto': 'Peggy Gerd Henriksson Carlsson'}, {'$id': '15', 'NombreCompleto': 'Eva Miriam Amaral Ribeiro Sampaio de Andrade'}, {'$id': '16', 'NombreCompleto': 'Marta María González Orta'}]}, {'$id': '17', 'MCER': None, 'Nivel': 'Prueba de nivel - Para preparatorios del FCE/CAE/CPE/IELTS', 'ID': 'A15050166', 'Titulo': 'Inglés - Prueba de nivel - Para preparatorios del FCE/CAE/CPE/IELTS', 'Horario': None, 'InicioImparticion': '2015-01-12T00:00:00', 'FinImparticion': '2015-02-04T00:00:00', 'Horas': 1, 'URL': 'https://sede.fg.ull.es/es/idioma/detalle/A15050166/ingles-prueba-de-nivel-para-preparatorios-del-fce-cae-cpe-ielts', 'TipoFormacion': 'Presencial', 'ECTS': None, 'Categoria': 'Zona Metropolitana', 'Profesorado': [{'$id': '18', 'NombreCompleto': 'Clive Tyrell'}]}, {'$id': '19', 'MCER': None, 'Nivel': 'Prueba de nivel - Para cursos segundo cuatrimestre', 'ID': 'A15050164', 'Titulo': 'Italiano - Prueba de nivel - Para cursos segundo cuatrimestre', 'Horario': None, 'InicioImparticion': '2015-01-12T00:00:00', 'FinImparticion': '2015-02-09T00:00:00', 'Horas': 2, 'URL': 'https://sede.fg.ull.es/es/idioma/detalle/A15050164/italiano-prueba-de-nivel-para-cursos-segundo-cuatrimestre', 'TipoFormacion': 'Presencial', 'ECTS': None, 'Categoria': 'Zona Metropolitana', 'Profesorado': [{'$id': '20', 'NombreCompleto': 'Nicola Cataldo'}]}]\n"
     ]
    }
   ],
   "source": [
    "import json\n",
    "\n",
    "with open('ej2.json', 'r', encoding='utf-8') as archivo:\n",
    "    objpy = json.load(archivo)\n",
    "    \n",
    "print(objpy)"
   ]
  },
  {
   "cell_type": "markdown",
   "metadata": {},
   "source": [
    "##  ¿Cuantas pruebas de idiomas están descritas en el documento?"
   ]
  },
  {
   "cell_type": "code",
   "execution_count": 14,
   "metadata": {},
   "outputs": [
    {
     "name": "stdout",
     "output_type": "stream",
     "text": [
      "7\n"
     ]
    }
   ],
   "source": [
    "print(len(objpy))"
   ]
  },
  {
   "cell_type": "markdown",
   "metadata": {},
   "source": [
    "## Devuelve el título de las pruebas de nivel que van a durar más de dos horas."
   ]
  },
  {
   "cell_type": "code",
   "execution_count": 15,
   "metadata": {},
   "outputs": [
    {
     "name": "stdout",
     "output_type": "stream",
     "text": [
      "['Inglés - Prueba de nivel - para cursos de Inglés para la Docencia y preparatorio de GESE Trinity', 'Inglés - Prueba de nivel - Para cursos segundo cuatrimestre']\n"
     ]
    }
   ],
   "source": [
    "titulos_pruebas_mas_dos_horas = [prueba['Titulo'] for prueba in objpy if prueba['Horas'] > 2]\n",
    "print(titulos_pruebas_mas_dos_horas)"
   ]
  },
  {
   "cell_type": "markdown",
   "metadata": {},
   "source": [
    "## De las pruebas de tipo “No Presencial” devuelve la URL de información."
   ]
  },
  {
   "cell_type": "code",
   "execution_count": 16,
   "metadata": {},
   "outputs": [
    {
     "name": "stdout",
     "output_type": "stream",
     "text": [
      "['https://sede.fg.ull.es/es/idioma/detalle/A15050163/aleman-prueba-de-nivel-para-cursos-segundo-cuatrimestre', 'https://sede.fg.ull.es/es/idioma/detalle/A15050167/espa-ol-prueba-de-nivel-para-cursos-segundo-cuatrimestre']\n"
     ]
    }
   ],
   "source": [
    "# aqui puse un or porque en el json està una vez escrito 'No presencial' con espacio y una vez ¡NoPresencial' sin espacio\n",
    "no_presencial_url = [prueba['URL'] for prueba in objpy if prueba['TipoFormacion'] == 'NoPresencial' or prueba['TipoFormacion'] == 'No Presencial']\n",
    "print(no_presencial_url)"
   ]
  },
  {
   "cell_type": "markdown",
   "metadata": {},
   "source": [
    "## Recibe el código de la prueba “ID” y muestra su título y profesores."
   ]
  },
  {
   "cell_type": "code",
   "execution_count": 17,
   "metadata": {},
   "outputs": [
    {
     "name": "stdout",
     "output_type": "stream",
     "text": [
      "['A15050163', 'A15050167', 'A15050162', 'A15050182', 'A15050007', 'A15050166', 'A15050164']\n",
      "Título: Inglés - Prueba de nivel - para cursos de Inglés para la Docencia y preparatorio de GESE Trinity\n",
      "Profesores:\n",
      "- María Luisa Capón Mouriz\n",
      "No se encontró una prueba con el código A15050144.\n"
     ]
    }
   ],
   "source": [
    "codigos_id = [prueba['ID'] for prueba in objpy]\n",
    "print (codigos_id)\n",
    "\n",
    "def obtener_info_prueba_por_id(dictonary, codigo_prueba):\n",
    "    for curso in dictonary:\n",
    "        if curso['ID'] == codigo_prueba:\n",
    "            titulo = curso['Titulo']\n",
    "            profesores = [profesor['NombreCompleto'] for profesor in curso['Profesorado']]\n",
    "            return titulo, profesores\n",
    "    return None, None\n",
    "\n",
    "codigo_prueba1 = 'A15050182'\n",
    "codigo_prueba2 = 'A15050144' # codigo inventado \n",
    "\n",
    "titulo1, profesores1 = obtener_info_prueba_por_id(objpy, codigo_prueba1)\n",
    "titulo2, profesores2 = obtener_info_prueba_por_id(objpy, codigo_prueba2)\n",
    "\n",
    "if titulo1:\n",
    "    print(f\"Título: {titulo1}\")\n",
    "    print(\"Profesores:\")\n",
    "    for profesor in profesores1:\n",
    "        print(f\"- {profesor}\")\n",
    "else:\n",
    "    print(f\"No se encontró una prueba con el código {codigo_prueba1}.\")\n",
    "    \n",
    "if titulo2:\n",
    "    print(f\"Título: {titulo2}\")\n",
    "    print(\"Profesores:\")\n",
    "    for profesor in profesores2:\n",
    "        print(f\"- {profesor}\")\n",
    "else:\n",
    "    print(f\"No se encontró una prueba con el código {codigo_prueba2}.\")\n"
   ]
  },
  {
   "cell_type": "markdown",
   "metadata": {},
   "source": [
    "## Para cada uno de las pruebas, muestra su título y sus profesores."
   ]
  },
  {
   "cell_type": "code",
   "execution_count": 18,
   "metadata": {},
   "outputs": [
    {
     "name": "stdout",
     "output_type": "stream",
     "text": [
      "Título: Alemán - Prueba de nivel - Para cursos segundo cuatrimestre\n",
      "Profesores:\n",
      "- Reinhard Dlugay\n",
      "\n",
      "Título: Español - Prueba de nivel - Para cursos segundo cuatrimestre\n",
      "Profesores:\n",
      "- Beatriz Hernández Bravo\n",
      "\n",
      "Título: Francés - Prueba de nivel - Para cursos segundo cuatrimestre\n",
      "Profesores:\n",
      "- Marie-Morgane Le Folgoc\n",
      "\n",
      "Título: Inglés - Prueba de nivel - para cursos de Inglés para la Docencia y preparatorio de GESE Trinity\n",
      "Profesores:\n",
      "- María Luisa Capón Mouriz\n",
      "\n",
      "Título: Inglés - Prueba de nivel - Para cursos segundo cuatrimestre\n",
      "Profesores:\n",
      "- María Luisa Capón Mouriz\n",
      "- Richard James Murison\n",
      "- María Isabel Rodríguez Rodríguez\n",
      "- Beatriz Freire Betancor\n",
      "- Peggy Gerd Henriksson Carlsson\n",
      "- Eva Miriam Amaral Ribeiro Sampaio de Andrade\n",
      "- Marta María González Orta\n",
      "\n",
      "Título: Inglés - Prueba de nivel - Para preparatorios del FCE/CAE/CPE/IELTS\n",
      "Profesores:\n",
      "- Clive Tyrell\n",
      "\n",
      "Título: Italiano - Prueba de nivel - Para cursos segundo cuatrimestre\n",
      "Profesores:\n",
      "- Nicola Cataldo\n",
      "\n"
     ]
    }
   ],
   "source": [
    "def mostrar_titulos_y_profesores(dictonary):\n",
    "    for prueba in dictonary:\n",
    "        titulo = prueba['Titulo']\n",
    "        profesores = [profesor['NombreCompleto'] for profesor in prueba['Profesorado']]\n",
    "        \n",
    "        print(f'Título: {titulo}')\n",
    "        print('Profesores:')\n",
    "        for profesor in profesores:\n",
    "            print(f'- {profesor}')\n",
    "        print()\n",
    "\n",
    "mostrar_titulos_y_profesores(objpy)\n",
    "    "
   ]
  },
  {
   "cell_type": "markdown",
   "metadata": {},
   "source": [
    "##  ¿Cuáles son las fechas de inicio y fin de todas las pruebas? Implementa una función que devuelva un diccionario con el ID de la prueba como clave y las fechas de inicio y fin como valores."
   ]
  },
  {
   "cell_type": "code",
   "execution_count": 19,
   "metadata": {},
   "outputs": [
    {
     "name": "stdout",
     "output_type": "stream",
     "text": [
      "ID: A15050163\n",
      " Inicio: 2015-01-09T00:00:00\n",
      " Fin: 2015-02-06T00:00:00\n",
      "\n",
      "ID: A15050167\n",
      " Inicio: 2015-01-09T00:00:00\n",
      " Fin: 2015-02-05T00:00:00\n",
      "\n",
      "ID: A15050162\n",
      " Inicio: 2015-01-07T00:00:00\n",
      " Fin: 2015-02-05T00:00:00\n",
      "\n",
      "ID: A15050182\n",
      " Inicio: 2015-02-10T00:00:00\n",
      " Fin: 2015-03-03T00:00:00\n",
      "\n",
      "ID: A15050007\n",
      " Inicio: 2015-01-09T00:00:00\n",
      " Fin: 2015-02-12T00:00:00\n",
      "\n",
      "ID: A15050166\n",
      " Inicio: 2015-01-12T00:00:00\n",
      " Fin: 2015-02-04T00:00:00\n",
      "\n",
      "ID: A15050164\n",
      " Inicio: 2015-01-12T00:00:00\n",
      " Fin: 2015-02-09T00:00:00\n",
      "\n"
     ]
    }
   ],
   "source": [
    "def obtener_fechas_por_id(dictonary):\n",
    "    fechas_pruebas = {}\n",
    "    for prueba in dictonary:\n",
    "        id_prueba = prueba['ID']\n",
    "        inicio = prueba['InicioImparticion']\n",
    "        fin = prueba['FinImparticion']\n",
    "        fechas_pruebas[id_prueba] = {'Inicio': inicio, 'Fin': fin}\n",
    "    return fechas_pruebas\n",
    "\n",
    "fechas_pruebas = obtener_fechas_por_id(objpy)\n",
    "\n",
    "for id_prueba, fechas in fechas_pruebas.items():\n",
    "    print(f'ID: {id_prueba}')\n",
    "    print(f' Inicio: {fechas['Inicio']}')\n",
    "    print(f' Fin: {fechas['Fin']}')\n",
    "    print()"
   ]
  },
  {
   "cell_type": "markdown",
   "metadata": {},
   "source": [
    "##  ¿Qué pruebas tienen una duración de más de tres horas y se imparten de manera presencial? Implementa una función que devuelva una lista de títulos de pruebas que cumplen con estos criterios."
   ]
  },
  {
   "cell_type": "code",
   "execution_count": 21,
   "metadata": {},
   "outputs": [
    {
     "name": "stdout",
     "output_type": "stream",
     "text": [
      "Pruebas presenciales más de tres horas:\n",
      "Inglés - Prueba de nivel - para cursos de Inglés para la Docencia y preparatorio de GESE Trinity\n"
     ]
    }
   ],
   "source": [
    "def obtener_pruebas_presenciales_mas_3_horas(dictonary):\n",
    "    pruebas_filtradas = []\n",
    "    for prueba in dictonary:\n",
    "        if prueba['Horas'] > 3 and prueba['TipoFormacion'] == 'Presencial':\n",
    "            pruebas_filtradas.append(prueba['Titulo'])\n",
    "    return pruebas_filtradas\n",
    "\n",
    "pruebas_largas_presenciales = obtener_pruebas_presenciales_mas_3_horas(objpy)\n",
    "\n",
    "print('Pruebas presenciales más de tres horas:')\n",
    "for prueba in pruebas_largas_presenciales:\n",
    "    print(prueba)\n"
   ]
  },
  {
   "cell_type": "markdown",
   "metadata": {},
   "source": [
    "##  ¿Cuántas pruebas de cada tipo de formación (\"Presencial\" y \"No Presencial\") hay? Implementa una función que devuelva un diccionario con el tipo de formación como clave y la cantidad de pruebas para cada tipo como valor."
   ]
  },
  {
   "cell_type": "code",
   "execution_count": 22,
   "metadata": {},
   "outputs": [
    {
     "name": "stdout",
     "output_type": "stream",
     "text": [
      "Número de pruebas por tipo de formación:\n",
      "Presencial: 5\n",
      "No Presencial: 1\n",
      "NoPresencial: 1\n"
     ]
    }
   ],
   "source": [
    "def obtener_numero_pruebas_presenciales_y_nopresenciales(dictonary):\n",
    "    contador = {'Presencial': 0, 'No Presencial': 0, 'NoPresencial': 0}\n",
    "    for prueba in dictonary:\n",
    "        tipo = prueba['TipoFormacion']\n",
    "        if tipo in contador:\n",
    "            contador[tipo] += 1\n",
    "    return contador\n",
    "\n",
    "res = obtener_numero_pruebas_presenciales_y_nopresenciales(objpy)\n",
    "\n",
    "print('Número de pruebas por tipo de formación:')\n",
    "for tipo, cantidad in res.items():\n",
    "    print(f'{tipo}: {cantidad}')\n",
    "    "
   ]
  },
  {
   "cell_type": "markdown",
   "metadata": {},
   "source": [
    "## ¿Cuál es la prueba de nivel más corta y cuál es la más larga en términos de horas? Implementa una función que devuelva el título y la duración de la prueba más corta y la más larga."
   ]
  },
  {
   "cell_type": "code",
   "execution_count": 23,
   "metadata": {},
   "outputs": [
    {
     "name": "stdout",
     "output_type": "stream",
     "text": [
      "Prueba más corta:\n",
      "Título: Francés - Prueba de nivel - Para cursos segundo cuatrimestre, Duración: 1 horas\n",
      "\n",
      "Prueba más larga:\n",
      "Título: Inglés - Prueba de nivel - para cursos de Inglés para la Docencia y preparatorio de GESE Trinity, Duración: 4 horas\n"
     ]
    }
   ],
   "source": [
    "def obtener_prueba_mas_corta_y_mas_larga(dictonary):\n",
    "    pruebas_mas_corta = None\n",
    "    pruebas_mas_larga = None\n",
    "    horas_mas_corta = float('inf')\n",
    "    horas_mas_larga = -float('inf')\n",
    "    \n",
    "    for prueba in dictonary:\n",
    "        horas = prueba['Horas']\n",
    "        \n",
    "        if horas < horas_mas_corta:\n",
    "            horas_mas_corta = horas\n",
    "            pruebas_mas_corta = prueba['Titulo']\n",
    "            \n",
    "        if horas > horas_mas_larga:\n",
    "            horas_mas_larga = horas\n",
    "            pruebas_mas_larga = prueba['Titulo']\n",
    "    \n",
    "    return {\n",
    "        'pruebas_mas_corta': {'titulo': pruebas_mas_corta, 'horas': horas_mas_corta},\n",
    "        'pruebas_mas_larga': {'titulo': pruebas_mas_larga, 'horas': horas_mas_larga}\n",
    "    }\n",
    "    \n",
    "resultado = obtener_prueba_mas_corta_y_mas_larga(objpy)\n",
    "\n",
    "print('Prueba más corta:')\n",
    "print(f'Título: {resultado['pruebas_mas_corta']['titulo']}, Duración: {resultado['pruebas_mas_corta']['horas']} horas')\n",
    "print()\n",
    "print('Prueba más larga:')\n",
    "print(f'Título: {resultado['pruebas_mas_larga']['titulo']}, Duración: {resultado['pruebas_mas_larga']['horas']} horas')"
   ]
  },
  {
   "cell_type": "markdown",
   "metadata": {},
   "source": [
    "##  Recibe una fecha y devuelve las pruebas que comienzan o terminan en esa fecha. Implementa una función que reciba una fecha y devuelva una lista de pruebas que empiezan o terminan en esa fecha."
   ]
  },
  {
   "cell_type": "code",
   "execution_count": 27,
   "metadata": {},
   "outputs": [
    {
     "name": "stdout",
     "output_type": "stream",
     "text": [
      "[('2015-01-09T00:00:00', '2015-02-06T00:00:00'), ('2015-01-09T00:00:00', '2015-02-05T00:00:00'), ('2015-01-07T00:00:00', '2015-02-05T00:00:00'), ('2015-02-10T00:00:00', '2015-03-03T00:00:00'), ('2015-01-09T00:00:00', '2015-02-12T00:00:00'), ('2015-01-12T00:00:00', '2015-02-04T00:00:00'), ('2015-01-12T00:00:00', '2015-02-09T00:00:00')]\n",
      "Pruebas que comienzan o terminan en la fecha 2015-01-09T00:00:00:\n",
      "Alemán - Prueba de nivel - Para cursos segundo cuatrimestre\n",
      "Español - Prueba de nivel - Para cursos segundo cuatrimestre\n",
      "Inglés - Prueba de nivel - Para cursos segundo cuatrimestre\n"
     ]
    }
   ],
   "source": [
    "fechas_fin_y_inicio = [(prueba['InicioImparticion'], prueba['FinImparticion']) for prueba in objpy]\n",
    "print(fechas_fin_y_inicio)\n",
    "\n",
    "def obtener_pruebas_por_fecha(dictonary, fecha):\n",
    "    pruebas_en_fecha = []\n",
    "    for prueba in dictonary:\n",
    "        if prueba['InicioImparticion'] == fecha or prueba['FinImparticion'] == fecha:\n",
    "            pruebas_en_fecha.append(prueba['Titulo'])\n",
    "    return pruebas_en_fecha\n",
    "\n",
    "fecha = '2015-01-09T00:00:00'\n",
    "pruebas_en_fecha = obtener_pruebas_por_fecha(objpy, fecha)\n",
    "\n",
    "print(f\"Pruebas que comienzan o terminan en la fecha {fecha}:\")\n",
    "for prueba in pruebas_en_fecha:\n",
    "    print(prueba)"
   ]
  },
  {
   "cell_type": "markdown",
   "metadata": {},
   "source": [
    "##  ¿Qué pruebas tienen profesores cuyo nombre contiene una palabra específica? Implementa una función que reciba una palabra y devuelva una lista de pruebas en las que al menos un profesor tiene ese nombre."
   ]
  },
  {
   "cell_type": "code",
   "execution_count": 32,
   "metadata": {},
   "outputs": [
    {
     "name": "stdout",
     "output_type": "stream",
     "text": [
      "['Reinhard Dlugay', 'Beatriz Hernández Bravo', 'Marie-Morgane Le Folgoc', 'María Luisa Capón Mouriz', 'María Luisa Capón Mouriz', 'Richard James Murison', 'María Isabel Rodríguez Rodríguez', 'Beatriz Freire Betancor', 'Peggy Gerd Henriksson Carlsson', 'Eva Miriam Amaral Ribeiro Sampaio de Andrade', 'Marta María González Orta', 'Clive Tyrell', 'Nicola Cataldo']\n",
      "Pruebas que tienen profesores cuyo nombre contiene 'Marí':\n",
      "Inglés - Prueba de nivel - para cursos de Inglés para la Docencia y preparatorio de GESE Trinity\n",
      "Inglés - Prueba de nivel - Para cursos segundo cuatrimestre\n"
     ]
    }
   ],
   "source": [
    "autores = [profesor['NombreCompleto'] for prueba in objpy for profesor in prueba['Profesorado']]\n",
    "print(autores)\n",
    "\n",
    "def palabra_especifica(dictonary, palabra):\n",
    "    pruebas_palabras_autores_en_comun = []\n",
    "    for prueba in dictonary:\n",
    "        for profesor in prueba['Profesorado']:\n",
    "            if palabra.lower() in profesor['NombreCompleto'].lower():\n",
    "                pruebas_palabras_autores_en_comun.append(prueba['Titulo'])\n",
    "                break\n",
    "    return pruebas_palabras_autores_en_comun\n",
    "\n",
    "\n",
    "palabra_buscar = \"Marí\"\n",
    "pruebas_con_palabra = palabra_especifica(objpy, palabra_buscar)\n",
    "\n",
    "print(f\"Pruebas que tienen profesores cuyo nombre contiene '{palabra_buscar}':\")\n",
    "for prueba in pruebas_con_palabra:\n",
    "    print(prueba)  "
   ]
  },
  {
   "cell_type": "markdown",
   "metadata": {},
   "source": [
    "##  Recibe un título de prueba y devuelve todos los detalles asociados a esa prueba. Implementa una función que reciba un título y devuelva todos los detalles asociados a la prueba correspondiente."
   ]
  },
  {
   "cell_type": "code",
   "execution_count": null,
   "metadata": {},
   "outputs": [
    {
     "name": "stdout",
     "output_type": "stream",
     "text": [
      "['Alemán - Prueba de nivel - Para cursos segundo cuatrimestre', 'Español - Prueba de nivel - Para cursos segundo cuatrimestre', 'Francés - Prueba de nivel - Para cursos segundo cuatrimestre', 'Inglés - Prueba de nivel - para cursos de Inglés para la Docencia y preparatorio de GESE Trinity', 'Inglés - Prueba de nivel - Para cursos segundo cuatrimestre', 'Inglés - Prueba de nivel - Para preparatorios del FCE/CAE/CPE/IELTS', 'Italiano - Prueba de nivel - Para cursos segundo cuatrimestre']\n",
      "Detalles Prueba:\n",
      "{'$id': '3', 'MCER': None, 'Nivel': 'Prueba de nivel - Para cursos segundo cuatrimestre', 'ID': 'A15050167', 'Titulo': 'Español - Prueba de nivel - Para cursos segundo cuatrimestre', 'Horario': None, 'InicioImparticion': '2015-01-09T00:00:00', 'FinImparticion': '2015-02-05T00:00:00', 'Horas': 2, 'URL': 'https://sede.fg.ull.es/es/idioma/detalle/A15050167/espa-ol-prueba-de-nivel-para-cursos-segundo-cuatrimestre', 'TipoFormacion': 'No Presencial', 'ECTS': None, 'Categoria': 'Zona Metropolitana', 'Profesorado': [{'$id': '4', 'NombreCompleto': 'Beatriz Hernández Bravo'}]}\n",
      "No se encontró una prueba con el título \"Programación - Escuela Musk\".\n"
     ]
    }
   ],
   "source": [
    "titulos = [prueba['Titulo'] for prueba in objpy] #organizo todoas los titulos en una lista para extraer y tener a vista todos los titulos\n",
    "print(titulos)\n",
    "\n",
    "def obtener_detalles_por_titulo(dictonary, titulo_de_prueba):\n",
    "    for prueba in dictonary:\n",
    "        if prueba['Titulo'] == titulo_de_prueba:\n",
    "            return prueba\n",
    "    return None\n",
    "\n",
    "titulo1 = 'Español - Prueba de nivel - Para cursos segundo cuatrimestre'\n",
    "titulo2 = 'Programación - Escuela Musk'\n",
    "\n",
    "detalles1 = obtener_detalles_por_titulo(objpy, titulo1)\n",
    "detalles2 = obtener_detalles_por_titulo(objpy, titulo2)  \n",
    "\n",
    "if detalles1:\n",
    "    print('Detalles Prueba:')\n",
    "    print(detalles1)\n",
    "else:\n",
    "    print(f'No se encontró una prueba con el título \"{titulo1}\".')\n",
    "    \n",
    "if detalles2:\n",
    "    print('Detalles Prueba:')\n",
    "    print(detalles2)\n",
    "else:\n",
    "    print(f'No se encontró una prueba con el título \"{titulo2}\".')\n"
   ]
  }
 ],
 "metadata": {
  "kernelspec": {
   "display_name": "Python 3",
   "language": "python",
   "name": "python3"
  },
  "language_info": {
   "codemirror_mode": {
    "name": "ipython",
    "version": 3
   },
   "file_extension": ".py",
   "mimetype": "text/x-python",
   "name": "python",
   "nbconvert_exporter": "python",
   "pygments_lexer": "ipython3",
   "version": "3.13.0"
  }
 },
 "nbformat": 4,
 "nbformat_minor": 2
}
