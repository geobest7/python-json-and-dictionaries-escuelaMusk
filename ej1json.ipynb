{
 "cells": [
  {
   "cell_type": "markdown",
   "metadata": {},
   "source": [
    "## Pasar el json a objeto python\n"
   ]
  },
  {
   "cell_type": "code",
   "execution_count": 1,
   "metadata": {},
   "outputs": [
    {
     "name": "stdout",
     "output_type": "stream",
     "text": [
      "{'bookstore': {'book': [{'title': {'_lang': 'en', '__text': 'Everyday Italian'}, 'author': 'Giada De Laurentiis', 'year': '2005', 'price': '30.00', '_category': 'COOKING'}, {'title': {'_lang': 'en', '__text': 'Harry Potter'}, 'author': 'J K. Rowling', 'year': '2005', 'price': '29.99', '_category': 'CHILDREN'}, {'title': {'_lang': 'en', '__text': 'XQuery Kick Start'}, 'author': ['James McGovern', 'Per Bothner', 'Kurt Cagle', 'James Linn', 'Vaidyanathan Nagarajan'], 'year': '2003', 'price': '49.99', '_category': 'WEB'}, {'title': {'_lang': 'en', '__text': 'Learning XML'}, 'author': 'Erik T. Ray', 'year': '2003', 'price': '39.95', '_category': 'WEB'}]}}\n"
     ]
    }
   ],
   "source": [
    "import json\n",
    "\n",
    "with open('ej1.json', 'r') as archivo:\n",
    "    objpy = json.load(archivo)\n",
    "    \n",
    "print(objpy)"
   ]
  },
  {
   "cell_type": "markdown",
   "metadata": {},
   "source": [
    "## ¿Cuántos libros hay en la librería?\n"
   ]
  },
  {
   "cell_type": "code",
   "execution_count": 2,
   "metadata": {},
   "outputs": [
    {
     "name": "stdout",
     "output_type": "stream",
     "text": [
      "Cantidad de libros: 4\n"
     ]
    }
   ],
   "source": [
    "libros = objpy['bookstore']['book']\n",
    "cantidad_libros = len(libros)\n",
    "print(\"Cantidad de libros:\", cantidad_libros)"
   ]
  },
  {
   "cell_type": "markdown",
   "metadata": {},
   "source": [
    "## Recibe un límite inferior y superior para el precio y muestra todos los libros cuyo precio esta en ese intervalo."
   ]
  },
  {
   "cell_type": "code",
   "execution_count": 3,
   "metadata": {},
   "outputs": [
    {
     "name": "stdout",
     "output_type": "stream",
     "text": [
      "[{'title': {'_lang': 'en', '__text': 'Everyday Italian'}, 'price': 30.0}, {'title': {'_lang': 'en', '__text': 'Learning XML'}, 'price': 39.95}]\n"
     ]
    }
   ],
   "source": [
    "precio_min = 30.00\n",
    "precio_max = 40.00\n",
    "\n",
    "libros_intervalo = [\n",
    "    {\"title\": libro['title'], \"price\": float(libro['price'])}\n",
    "    for libro in objpy['bookstore']['book']\n",
    "    if precio_min <= float(libro['price']) <= precio_max\n",
    "]\n",
    "\n",
    "print(libros_intervalo)"
   ]
  },
  {
   "cell_type": "markdown",
   "metadata": {},
   "source": [
    "## Recibe una cadena por teclado, y muestra el título y el año de publicación de los libros cuyo título empiece por la cadena introducida."
   ]
  },
  {
   "cell_type": "code",
   "execution_count": 4,
   "metadata": {},
   "outputs": [
    {
     "name": "stdout",
     "output_type": "stream",
     "text": [
      "Título: Everyday Italian, Año de publicación: 2005\n"
     ]
    }
   ],
   "source": [
    "cadena = input(\"Introduce una cadena de letras y buscarè un libro que epmpiece por esa cadena: \").lower()\n",
    "\n",
    "for libro in objpy['bookstore']['book']:\n",
    "    titulo = libro['title']['__text'].lower()\n",
    "    if titulo.startswith(cadena):\n",
    "        print(f\"Título: {libro['title']['__text']}, Año de publicación: {libro['year']}\")"
   ]
  },
  {
   "cell_type": "markdown",
   "metadata": {},
   "source": [
    "## Devuelve todos los títulos de los libros con la lista de sus autores."
   ]
  },
  {
   "cell_type": "code",
   "execution_count": 5,
   "metadata": {},
   "outputs": [
    {
     "name": "stdout",
     "output_type": "stream",
     "text": [
      "autor/a: Giada De Laurentiis, libro: Everyday Italian\n",
      "autor/a: J K. Rowling, libro: Harry Potter\n",
      "autor/a: ['James McGovern', 'Per Bothner', 'Kurt Cagle', 'James Linn', 'Vaidyanathan Nagarajan'], libro: XQuery Kick Start\n",
      "autor/a: Erik T. Ray, libro: Learning XML\n"
     ]
    }
   ],
   "source": [
    "for libro in objpy['bookstore']['book']:\n",
    "    print(f'autor/a: {libro['author']}, libro: {libro['title']['__text']}')"
   ]
  },
  {
   "cell_type": "markdown",
   "metadata": {},
   "source": [
    "## ¿Cuáles son los títulos de todos los libros de una categoría específica? Implementa una función que reciba una categoría y devuelva todos los títulos de los libros que pertenecen a esa categoría."
   ]
  },
  {
   "cell_type": "code",
   "execution_count": 6,
   "metadata": {},
   "outputs": [
    {
     "name": "stdout",
     "output_type": "stream",
     "text": [
      "['COOKING', 'CHILDREN', 'WEB', 'WEB']\n"
     ]
    }
   ],
   "source": [
    "categorias = [libro['_category'] for libro  in objpy['bookstore']['book']]\n",
    "print(categorias)"
   ]
  },
  {
   "cell_type": "code",
   "execution_count": 7,
   "metadata": {},
   "outputs": [
    {
     "name": "stdout",
     "output_type": "stream",
     "text": [
      "Títulos en la categoría \"web\": ['XQuery Kick Start', 'Learning XML']\n"
     ]
    }
   ],
   "source": [
    "def devolver_title_x_category(dictonary, category):\n",
    "    titulos = []\n",
    "    \n",
    "    for libro in dictonary['bookstore']['book']:\n",
    "        if isinstance(libro.get('_category'), str):\n",
    "            if libro['_category'].lower() == category.lower():\n",
    "                titulos.append(libro['title']['__text'])\n",
    "        elif isinstance(libro.get('_category'), list):\n",
    "            if category.lower() in [cat.lower() for cat in libro['_category']]:\n",
    "                titulos.append(libro['title']['__text'])              \n",
    "    return titulos\n",
    "\n",
    "category = input('Introduce una categoria: ')\n",
    "titulo_x_category = devolver_title_x_category(objpy, category)\n",
    "\n",
    "if titulo_x_category:\n",
    "    print(f'Títulos en la categoría \"{category}\":', titulo_x_category)\n",
    "else:\n",
    "    print(f'No hay libros en la categoria \"{category}')\n",
    "\n"
   ]
  },
  {
   "cell_type": "markdown",
   "metadata": {},
   "source": [
    "##  ¿Quiénes son los autores de un libro dado? Implementa una función que reciba el título de un libro y devuelva una lista de los autores de ese libro."
   ]
  },
  {
   "cell_type": "code",
   "execution_count": 8,
   "metadata": {},
   "outputs": [
    {
     "name": "stdout",
     "output_type": "stream",
     "text": [
      "['Everyday Italian', 'Harry Potter', 'XQuery Kick Start', 'Learning XML']\n",
      "El/Los autor/es de \"Learning XML\" es/son: ['Erik T. Ray']\n"
     ]
    }
   ],
   "source": [
    "titulos = [libro['title']['__text']for libro  in objpy['bookstore']['book']]\n",
    "print(titulos)\n",
    "\n",
    "def autores_x_titulo(dictonary, titulo):\n",
    "    for libro in dictonary['bookstore']['book']:\n",
    "        if libro['title']['__text'].lower() == titulo.lower():\n",
    "            if isinstance(libro['author'], list):\n",
    "                autores = libro['author']\n",
    "            elif isinstance(libro['author'], str):\n",
    "                autores = [libro['author']]\n",
    "    return autores\n",
    "\n",
    "titulo_insertado = input('Introduce el título de un libro: ')\n",
    "axt = autores_x_titulo(objpy, titulo_insertado)\n",
    "\n",
    "if axt:\n",
    "    print(f'El/Los autor/es de \"{titulo_insertado}\" es/son:', axt)\n",
    "else:\n",
    "    print(f'No se encontró el libro con el título \"{titulo_insertado}\".')"
   ]
  },
  {
   "cell_type": "markdown",
   "metadata": {},
   "source": [
    "## ¿Qué libro tiene el precio más alto? Implementa una función que devuelva el libro con el precio más alto y su precio."
   ]
  },
  {
   "cell_type": "code",
   "execution_count": 9,
   "metadata": {},
   "outputs": [
    {
     "name": "stdout",
     "output_type": "stream",
     "text": [
      "El libro con el precio más alto es \"XQuery Kick Start\" y su precio es 49.99 €\n"
     ]
    }
   ],
   "source": [
    "def libro_mas_caro(dictonary):\n",
    "    libros_caros = None\n",
    "    precio_mas_alto = 0.0\n",
    "    \n",
    "    for libro in dictonary['bookstore']['book']:\n",
    "        precio = float(libro['price'])\n",
    "        \n",
    "        if precio > precio_mas_alto:\n",
    "            precio_mas_alto = precio\n",
    "            libros_caros = libro\n",
    "    if libros_caros:\n",
    "        return libros_caros['title']['__text'], precio_mas_alto\n",
    "    else:\n",
    "        return None, None\n",
    "\n",
    "titulo, precio = libro_mas_caro(objpy)\n",
    "\n",
    "if titulo:\n",
    "    print(f'El libro con el precio más alto es \"{titulo}\" y su precio es {precio} €')\n",
    "else:\n",
    "    print(f'No se ha encontrado ningún libro.')"
   ]
  },
  {
   "cell_type": "markdown",
   "metadata": {},
   "source": [
    "## ¿Cuáles libros fueron publicados en un año específico? Implementa una función que reciba un año y devuelva una lista de títulos de los libros que fueron publicados en ese año."
   ]
  },
  {
   "cell_type": "code",
   "execution_count": 13,
   "metadata": {},
   "outputs": [
    {
     "name": "stdout",
     "output_type": "stream",
     "text": [
      "['2005', '2005', '2003', '2003']\n",
      "['Everyday Italian', 'Harry Potter']\n",
      "['XQuery Kick Start', 'Learning XML']\n"
     ]
    }
   ],
   "source": [
    "anos_publicacion = [libro['year'] for libro in objpy['bookstore']['book']]\n",
    "print(anos_publicacion)\n",
    "\n",
    "def year_p(dictonary, y_of_pub):\n",
    "    titulos = []\n",
    "    \n",
    "    for libro in dictonary['bookstore']['book']:\n",
    "        if libro['year'] == str(y_of_pub):\n",
    "            titulos.append(libro['title']['__text'])\n",
    "    return titulos\n",
    "\n",
    "libros_en_anio = year_p(objpy, 2005)\n",
    "libros_en_anio2 = year_p(objpy, 2003)\n",
    "print(libros_en_anio)\n",
    "print(libros_en_anio2)"
   ]
  },
  {
   "cell_type": "markdown",
   "metadata": {},
   "source": [
    "## Mostrar todos los libros con múltiples autores. Implementa una función que devuelva una lista de libros que tienen más de un autor."
   ]
  },
  {
   "cell_type": "code",
   "execution_count": 15,
   "metadata": {},
   "outputs": [
    {
     "name": "stdout",
     "output_type": "stream",
     "text": [
      "['XQuery Kick Start']\n"
     ]
    }
   ],
   "source": [
    "def libros_multiples_autores(dictonary):\n",
    "    libros_multiples_autores = []\n",
    "    \n",
    "    for libro in dictonary['bookstore']['book']:\n",
    "        if isinstance(libro['author'], list) and len(libro['author']) > 1:\n",
    "            libros_multiples_autores.append(libro['title']['__text'])\n",
    "    return libros_multiples_autores\n",
    "\n",
    "libros_multiples_a = libros_multiples_autores(objpy)\n",
    "print(libros_multiples_a)"
   ]
  },
  {
   "cell_type": "markdown",
   "metadata": {},
   "source": [
    "## Actualizar el precio de un libro dado su título. Implementa una función que reciba el título de un libro y un nuevo precio, y actualice el precio del libro en el archivo JSON."
   ]
  },
  {
   "cell_type": "code",
   "execution_count": 17,
   "metadata": {},
   "outputs": [
    {
     "name": "stdout",
     "output_type": "stream",
     "text": [
      "El precio de \"Learning XML\" ha sido actualizado a 39.92.\n"
     ]
    }
   ],
   "source": [
    "def actualizar_precio_libro(dictonary, filename, titulo, nuevo_precio):\n",
    "    libro_encontrado = False\n",
    "    for libro in dictonary['bookstore']['book']:\n",
    "        if libro['title']['__text'].lower() == titulo.lower():\n",
    "            libro['price'] = str(nuevo_precio)\n",
    "            libro_encontrado = True\n",
    "            break\n",
    "    if libro_encontrado:\n",
    "        with open(filename, 'w') as archivo:\n",
    "            json.dump(dictonary, archivo, indent=4)\n",
    "            print(f'El precio de \"{titulo}\" ha sido actualizado a {nuevo_precio}.')\n",
    "    else:\n",
    "        print(f'no se ha encontrado un libro con el título \"{titulo}\".')\n",
    "        \n",
    "titulo = input('Introduce el titulo del libro: ')\n",
    "nuevo_precio = input('Introdue el nuevo precio: ')\n",
    "actualizar_precio_libro(objpy, 'ej1.json', titulo, nuevo_precio)"
   ]
  },
  {
   "cell_type": "markdown",
   "metadata": {},
   "source": [
    "## Eliminar un libro dado su título. Implementa una función que reciba el título de un libro y lo elimine del archivo JSON."
   ]
  },
  {
   "cell_type": "code",
   "execution_count": 20,
   "metadata": {},
   "outputs": [
    {
     "name": "stdout",
     "output_type": "stream",
     "text": [
      "El libro con el titulo \"Learning XML\" ha sido eliminado del archivo \"ej1.json\".\n"
     ]
    }
   ],
   "source": [
    "def eliminar_libro_por_titulo(dictonary, filename, titulo):\n",
    "    # filtro para eliminar el libro encontrado\n",
    "    libros_filatrados = []\n",
    "    libros_encontrados = False\n",
    "    \n",
    "    for libro in dictonary['bookstore']['book']:\n",
    "        if libro['title']['__text'].lower() == titulo.lower():\n",
    "            libros_encontrados = True\n",
    "        else:\n",
    "            libros_filatrados.append(libro)\n",
    "    if not libros_encontrados:\n",
    "        print(f'No se ha encontrado un libro con el titulo \"{titulo}\".')\n",
    "        \n",
    "    dictonary['bookstore']['book'] = libros_filatrados\n",
    "    \n",
    "    with open(filename, 'w') as archivo:\n",
    "        json.dump(dictonary, archivo, indent=4)\n",
    "        \n",
    "    print(f'El libro con el titulo \"{titulo}\" ha sido eliminado del archivo \"{filename}\".')\n",
    "    \n",
    "titulo = input('Introduce el titulo del libro a eliminar: ')\n",
    "eliminar_libro_por_titulo(objpy, 'ej1.json', titulo)\n"
   ]
  },
  {
   "cell_type": "markdown",
   "metadata": {},
   "source": [
    "## Mostrar los títulos de los libros y su año de publicación, ordenados por año de publicación. Implementa una función que devuelva una lista de tuplas con el título y el año de publicación de los libros, ordenados por año."
   ]
  },
  {
   "cell_type": "code",
   "execution_count": 21,
   "metadata": {},
   "outputs": [
    {
     "name": "stdout",
     "output_type": "stream",
     "text": [
      "Tìtulo: XQuery Kick Start, Año: 2003\n",
      "Tìtulo: Everyday Italian, Año: 2005\n",
      "Tìtulo: Harry Potter, Año: 2005\n"
     ]
    }
   ],
   "source": [
    "def obtener_libros_ordenados_por_ano(dictonary):\n",
    "    libros = [\n",
    "        (libro['title']['__text'], int(libro['year']))\n",
    "        for libro in dictonary['bookstore']['book']\n",
    "    ]\n",
    "    libros_ordenados = sorted(libros, key=lambda x: x[1])\n",
    "    return libros_ordenados\n",
    "\n",
    "libros_ordenados = obtener_libros_ordenados_por_ano(objpy)\n",
    "for titulo, anio in libros_ordenados:\n",
    "    print(f'Tìtulo: {titulo}, Año: {anio}')"
   ]
  },
  {
   "cell_type": "markdown",
   "metadata": {},
   "source": [
    "## ¿Qué libros tienen un precio por debajo del promedio de todos los precios?"
   ]
  },
  {
   "cell_type": "code",
   "execution_count": 23,
   "metadata": {},
   "outputs": [
    {
     "name": "stdout",
     "output_type": "stream",
     "text": [
      "El precio promedio es: 36.66\n",
      "Libros con un precio por debajo del promedio:\n",
      "- Everyday Italian\n",
      "- Harry Potter\n"
     ]
    }
   ],
   "source": [
    "def libros_por_debajo_del_promedio(dictonary):\n",
    "    \n",
    "    precios = [float(libro['price']) for libro in dictonary['bookstore']['book']]\n",
    "    promedio_precio = sum(precios) / len(precios)\n",
    "    \n",
    "    libros_por_debajo = [\n",
    "        libro['title']['__text']\n",
    "        for libro in dictonary['bookstore']['book']\n",
    "        if float(libro['price']) < promedio_precio\n",
    "    ]\n",
    "    \n",
    "        \n",
    "    if not libros_por_debajo:\n",
    "        return None, promedio_precio\n",
    "    return libros_por_debajo, promedio_precio\n",
    "\n",
    "\n",
    "libros, promedio = libros_por_debajo_del_promedio(objpy)\n",
    "\n",
    "if libros is None:\n",
    "    print(f\"No hay libros con un precio por debajo del promedio de {promedio:.2f}\")\n",
    "else:\n",
    "    print(f\"El precio promedio es: {promedio:.2f}\")\n",
    "    print(\"Libros con un precio por debajo del promedio:\")\n",
    "    for libro in libros:\n",
    "        print(f\"- {libro}\")"
   ]
  }
 ],
 "metadata": {
  "kernelspec": {
   "display_name": "Python 3",
   "language": "python",
   "name": "python3"
  },
  "language_info": {
   "codemirror_mode": {
    "name": "ipython",
    "version": 3
   },
   "file_extension": ".py",
   "mimetype": "text/x-python",
   "name": "python",
   "nbconvert_exporter": "python",
   "pygments_lexer": "ipython3",
   "version": "3.13.0"
  }
 },
 "nbformat": 4,
 "nbformat_minor": 2
}
